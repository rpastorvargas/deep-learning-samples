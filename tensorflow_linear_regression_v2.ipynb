{
 "cells": [
  {
   "cell_type": "code",
   "execution_count": 1,
   "metadata": {},
   "outputs": [],
   "source": [
    "import numpy as np\n",
    "import tensorflow as tf"
   ]
  },
  {
   "cell_type": "code",
   "execution_count": 2,
   "metadata": {},
   "outputs": [],
   "source": [
    "# Model => X*W + b\n",
    "class LinearModel:\n",
    "    def __call__(self, x):\n",
    "        return self.Weight * x + self.Bias\n",
    "\n",
    "    def __init__(self):\n",
    "        self.Weight = tf.Variable(1.0)\n",
    "        self.Bias = tf.Variable(1.0)"
   ]
  },
  {
   "cell_type": "code",
   "execution_count": 3,
   "metadata": {},
   "outputs": [],
   "source": [
    "# Loss funcion (SQUARE OF ERRORS)\n",
    "def loss(y, pred):\n",
    "    return tf.reduce_mean(tf.square(y - pred))"
   ]
  },
  {
   "cell_type": "code",
   "execution_count": 4,
   "metadata": {},
   "outputs": [],
   "source": [
    "# Train function (Step)\n",
    "def train(linear_model, x, y, lr=0.01):\n",
    "    with tf.GradientTape() as t:\n",
    "        current_loss = loss(y, linear_model(x))\n",
    "\n",
    "    lr_weight, lr_bias = t.gradient(current_loss, [linear_model.Weight, linear_model.Bias])\n",
    "    linear_model.Weight.assign_sub(lr * lr_weight)\n",
    "    linear_model.Bias.assign_sub(lr * lr_bias)"
   ]
  },
  {
   "cell_type": "code",
   "execution_count": 5,
   "metadata": {},
   "outputs": [],
   "source": [
    "#training data\n",
    "x = [0, 1,2,3,4,5,6,7,8,9,10]\n",
    "y = [0,-1,-2,-3,-4,-5,-6,-7,-8,-9, -10]"
   ]
  },
  {
   "cell_type": "code",
   "execution_count": 6,
   "metadata": {},
   "outputs": [
    {
     "name": "stdout",
     "output_type": "stream",
     "text": [
      "Epoch count 0: Loss value: 30.0\n",
      "Epoch count 1: Loss value: 20.83500099182129\n",
      "Epoch count 2: Loss value: 14.475488662719727\n",
      "Epoch count 3: Loss value: 10.06264877319336\n",
      "Epoch count 4: Loss value: 7.000561714172363\n",
      "Epoch count 5: Loss value: 4.875735282897949\n",
      "Epoch count 6: Loss value: 3.4012537002563477\n",
      "Epoch count 7: Loss value: 2.3780338764190674\n",
      "Epoch count 8: Loss value: 1.6679363250732422\n",
      "Epoch count 9: Loss value: 1.175107479095459\n",
      "Epoch count 10: Loss value: 0.8330380320549011\n",
      "Epoch count 11: Loss value: 0.5955774188041687\n",
      "Epoch count 12: Loss value: 0.4307038486003876\n",
      "Epoch count 13: Loss value: 0.31619715690612793\n",
      "Epoch count 14: Loss value: 0.23663966357707977\n",
      "Epoch count 15: Loss value: 0.18133331835269928\n",
      "Epoch count 16: Loss value: 0.14285509288311005\n",
      "Epoch count 17: Loss value: 0.1160539984703064\n",
      "Epoch count 18: Loss value: 0.09735606610774994\n",
      "Epoch count 19: Loss value: 0.084281325340271\n",
      "Epoch count 20: Loss value: 0.07510901987552643\n",
      "Epoch count 21: Loss value: 0.068645179271698\n",
      "Epoch count 22: Loss value: 0.06406119465827942\n",
      "Epoch count 23: Loss value: 0.0607822947204113\n",
      "Epoch count 24: Loss value: 0.058409444987773895\n",
      "Epoch count 25: Loss value: 0.05666590481996536\n",
      "Epoch count 26: Loss value: 0.055359646677970886\n",
      "Epoch count 27: Loss value: 0.05435735359787941\n",
      "Epoch count 28: Loss value: 0.05356656014919281\n",
      "Epoch count 29: Loss value: 0.0529230572283268\n",
      "Epoch count 30: Loss value: 0.052382368594408035\n",
      "Epoch count 31: Loss value: 0.0519135482609272\n",
      "Epoch count 32: Loss value: 0.05149521678686142\n",
      "Epoch count 33: Loss value: 0.05111238360404968\n",
      "Epoch count 34: Loss value: 0.050754811614751816\n",
      "Epoch count 35: Loss value: 0.050415296107530594\n",
      "Epoch count 36: Loss value: 0.05008881539106369\n",
      "Epoch count 37: Loss value: 0.049771975725889206\n",
      "Epoch count 38: Loss value: 0.04946236312389374\n",
      "Epoch count 39: Loss value: 0.04915827140212059\n",
      "Epoch count 40: Loss value: 0.04885854944586754\n",
      "Epoch count 41: Loss value: 0.04856240376830101\n",
      "Epoch count 42: Loss value: 0.048269279301166534\n",
      "Epoch count 43: Loss value: 0.04797874391078949\n",
      "Epoch count 44: Loss value: 0.04769054055213928\n",
      "Epoch count 45: Loss value: 0.0474044606089592\n",
      "Epoch count 46: Loss value: 0.047120410948991776\n",
      "Epoch count 47: Loss value: 0.046838223934173584\n",
      "Epoch count 48: Loss value: 0.04655786603689194\n",
      "Epoch count 49: Loss value: 0.04627930000424385\n",
      "Epoch count 50: Loss value: 0.046002455055713654\n",
      "Epoch count 51: Loss value: 0.04572732001543045\n",
      "Epoch count 52: Loss value: 0.04545384272933006\n",
      "Epoch count 53: Loss value: 0.04518202692270279\n",
      "Epoch count 54: Loss value: 0.044911857694387436\n",
      "Epoch count 55: Loss value: 0.04464332014322281\n",
      "Epoch count 56: Loss value: 0.04437638819217682\n",
      "Epoch count 57: Loss value: 0.04411104694008827\n",
      "Epoch count 58: Loss value: 0.04384731501340866\n",
      "Epoch count 59: Loss value: 0.043585143983364105\n",
      "Epoch count 60: Loss value: 0.043324537575244904\n",
      "Epoch count 61: Loss value: 0.04306551814079285\n",
      "Epoch count 62: Loss value: 0.042808033525943756\n",
      "Epoch count 63: Loss value: 0.042552076280117035\n",
      "Epoch count 64: Loss value: 0.04229768365621567\n",
      "Epoch count 65: Loss value: 0.04204479604959488\n",
      "Epoch count 66: Loss value: 0.04179339483380318\n",
      "Epoch count 67: Loss value: 0.04154353588819504\n",
      "Epoch count 68: Loss value: 0.041295140981674194\n",
      "Epoch count 69: Loss value: 0.04104825109243393\n",
      "Epoch count 70: Loss value: 0.040802836418151855\n",
      "Epoch count 71: Loss value: 0.04055888205766678\n",
      "Epoch count 72: Loss value: 0.0403163768351078\n",
      "Epoch count 73: Loss value: 0.04007532075047493\n",
      "Epoch count 74: Loss value: 0.03983572870492935\n",
      "Epoch count 75: Loss value: 0.03959754854440689\n",
      "Epoch count 76: Loss value: 0.03936079889535904\n",
      "Epoch count 77: Loss value: 0.0391254797577858\n",
      "Epoch count 78: Loss value: 0.038891542702913284\n",
      "Epoch count 79: Loss value: 0.038659028708934784\n",
      "Epoch count 80: Loss value: 0.03842788189649582\n",
      "Epoch count 81: Loss value: 0.03819812834262848\n",
      "Epoch count 82: Loss value: 0.037969764322042465\n",
      "Epoch count 83: Loss value: 0.037742745131254196\n",
      "Epoch count 84: Loss value: 0.03751709312200546\n",
      "Epoch count 85: Loss value: 0.03729277849197388\n",
      "Epoch count 86: Loss value: 0.03706981986761093\n",
      "Epoch count 87: Loss value: 0.03684817999601364\n",
      "Epoch count 88: Loss value: 0.0366278737783432\n",
      "Epoch count 89: Loss value: 0.03640887886285782\n",
      "Epoch count 90: Loss value: 0.03619120642542839\n",
      "Epoch count 91: Loss value: 0.03597481548786163\n",
      "Epoch count 92: Loss value: 0.03575972095131874\n",
      "Epoch count 93: Loss value: 0.03554593771696091\n",
      "Epoch count 94: Loss value: 0.03533340245485306\n",
      "Epoch count 95: Loss value: 0.035122159868478775\n",
      "Epoch count 96: Loss value: 0.03491216152906418\n",
      "Epoch count 97: Loss value: 0.034703440964221954\n",
      "Epoch count 98: Loss value: 0.03449595719575882\n",
      "Epoch count 99: Loss value: 0.03428969532251358\n"
     ]
    }
   ],
   "source": [
    "# Fit loop\n",
    "linear_model = LinearModel()\n",
    "Weights, Biases = [], []\n",
    "epochs = 100\n",
    "for epoch_count in range(epochs):\n",
    "    Weights.append(linear_model.Weight.numpy()) \n",
    "    Biases.append(linear_model.Bias.numpy())\n",
    "    real_loss = loss(y, linear_model(x))\n",
    "    train(linear_model, x, y, lr=0.01)\n",
    "    print(f\"Epoch count {epoch_count}: Loss value: {real_loss.numpy()}\")"
   ]
  },
  {
   "cell_type": "code",
   "execution_count": 7,
   "metadata": {},
   "outputs": [
    {
     "name": "stdout",
     "output_type": "stream",
     "text": [
      "W: -0.84588593 b: 0.54688585 loss: 0.034289695\n"
     ]
    }
   ],
   "source": [
    "# Training accuracy & Parameters\n",
    "print(\"W: %s b: %s loss: %s\"%(Weights[epochs-1],Biases[epochs-1],real_loss.numpy()))"
   ]
  },
  {
   "cell_type": "code",
   "execution_count": null,
   "metadata": {},
   "outputs": [],
   "source": []
  }
 ],
 "metadata": {
  "kernelspec": {
   "display_name": "Python 3",
   "language": "python",
   "name": "python3"
  },
  "language_info": {
   "codemirror_mode": {
    "name": "ipython",
    "version": 3
   },
   "file_extension": ".py",
   "mimetype": "text/x-python",
   "name": "python",
   "nbconvert_exporter": "python",
   "pygments_lexer": "ipython3",
   "version": "3.7.6"
  }
 },
 "nbformat": 4,
 "nbformat_minor": 2
}
