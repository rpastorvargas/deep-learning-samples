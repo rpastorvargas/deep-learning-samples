{
  "nbformat": 4,
  "nbformat_minor": 0,
  "metadata": {
    "kernelspec": {
      "display_name": "Python 3",
      "language": "python",
      "name": "python3"
    },
    "language_info": {
      "codemirror_mode": {
        "name": "ipython",
        "version": 3
      },
      "file_extension": ".py",
      "mimetype": "text/x-python",
      "name": "python",
      "nbconvert_exporter": "python",
      "pygments_lexer": "ipython3",
      "version": "3.7.4"
    },
    "colab": {
      "name": "tensorflow_linear_regression.ipynb",
      "provenance": [],
      "include_colab_link": true
    }
  },
  "cells": [
    {
      "cell_type": "markdown",
      "metadata": {
        "id": "view-in-github",
        "colab_type": "text"
      },
      "source": [
        "<a href=\"https://colab.research.google.com/github/rpastorvargas/deep-learning-samples/blob/master/tensorflow_linear_regression.ipynb\" target=\"_parent\"><img src=\"https://colab.research.google.com/assets/colab-badge.svg\" alt=\"Open In Colab\"/></a>"
      ]
    },
    {
      "cell_type": "code",
      "metadata": {
        "id": "UmKByV8tXxFz",
        "colab_type": "code",
        "colab": {}
      },
      "source": [
        "import numpy as np\n",
        "import tensorflow as tf"
      ],
      "execution_count": 0,
      "outputs": []
    },
    {
      "cell_type": "code",
      "metadata": {
        "id": "IbBptPf3XxF7",
        "colab_type": "code",
        "colab": {}
      },
      "source": [
        "# Model parameters\n",
        "W = tf.Variable([.3], tf.float32)\n",
        "b= tf.Variable([-.3], tf.float32)\n",
        "# Model input/output\n",
        "x = tf.placeholder(tf.float32)\n",
        "linear_model = W*x + b\n",
        "y = tf.placeholder(tf.float32)\n",
        "# Loss funtion\n",
        "# sum of square errors\n",
        "loss = tf.reduce_sum(tf.square(linear_model-y))\n",
        "# Optimizer\n",
        "optimizer = tf.train.GradientDescentOptimizer(0.01)\n",
        "train = optimizer.minimize(loss)"
      ],
      "execution_count": 0,
      "outputs": []
    },
    {
      "cell_type": "code",
      "metadata": {
        "id": "Idr9gi4hXxF_",
        "colab_type": "code",
        "colab": {}
      },
      "source": [
        "#training data\n",
        "x_train = [1,2,3,4]\n",
        "y_train = [0,-1,-2,-3]\n",
        "# training loop\n",
        "init = tf.global_variables_initializer()\n",
        "sess = tf.Session()\n",
        "sess.run(init)\n",
        "for i in range(1000):\n",
        "    sess.run(train, {x:x_train, y:y_train})"
      ],
      "execution_count": 0,
      "outputs": []
    },
    {
      "cell_type": "code",
      "metadata": {
        "id": "5f9Hw0ubXxGD",
        "colab_type": "code",
        "colab": {},
        "outputId": "fef8babb-b150-43e2-9444-dcd4fcf44866"
      },
      "source": [
        "# evaluate training accuracy\n",
        "curr_W, curr_b, curr_loss = sess.run([W,b,loss], {x:x_train, y:y_train})\n",
        "print(\"W: %s b: %s loss: %s\"%(curr_W,curr_b,curr_loss))"
      ],
      "execution_count": 0,
      "outputs": [
        {
          "output_type": "stream",
          "text": [
            "W: [-0.9999969] b: [0.9999908] loss: 5.6999738e-11\n"
          ],
          "name": "stdout"
        }
      ]
    },
    {
      "cell_type": "code",
      "metadata": {
        "id": "JNehayfoXxGI",
        "colab_type": "code",
        "colab": {}
      },
      "source": [
        ""
      ],
      "execution_count": 0,
      "outputs": []
    }
  ]
}